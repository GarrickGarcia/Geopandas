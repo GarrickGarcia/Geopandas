{
 "cells": [
  {
   "cell_type": "code",
   "execution_count": 2,
   "metadata": {},
   "outputs": [],
   "source": [
    "import pandas as pd\n",
    "import plotly.express as px\n",
    "import matplotlib.pyplot as plt\n",
    "import arcgis\n",
    "from arcgis import GeoAccessor, GeoSeriesAccessor\n",
    "from arcgis.gis import GIS"
   ]
  },
  {
   "cell_type": "code",
   "execution_count": 3,
   "metadata": {},
   "outputs": [],
   "source": [
    "file_path = 's3://fsq-os-places-us-east-1/release/dt=2024-11-19/places/parquet/places-00000.snappy.parquet'"
   ]
  },
  {
   "cell_type": "code",
   "execution_count": 4,
   "metadata": {},
   "outputs": [],
   "source": [
    "# Read directly from S3\n",
    "df = pd.read_parquet(file_path, storage_options={'anon': True})"
   ]
  },
  {
   "cell_type": "code",
   "execution_count": 16,
   "metadata": {},
   "outputs": [
    {
     "name": "stdout",
     "output_type": "stream",
     "text": [
      "Number of rows: 4180424\n"
     ]
    }
   ],
   "source": [
    "# print number of rows\n",
    "print(f\"Number of rows: {df.shape[0]}\")"
   ]
  },
  {
   "cell_type": "code",
   "execution_count": 17,
   "metadata": {},
   "outputs": [
    {
     "data": {
      "image/png": "[encoded data removed]",
      "text/plain": [
       "<Figure size 640x480 with 1 Axes>"
      ]
     },
     "metadata": {},
     "output_type": "display_data"
    }
   ],
   "source": [
    "# make a matplotlib box plot of latitude and longitude\n",
    "fig, ax = plt.subplots()\n",
    "df.boxplot(column=['latitude', 'longitude'], ax=ax)\n",
    "plt.show()"
   ]
  },
  {
   "cell_type": "code",
   "execution_count": 7,
   "metadata": {},
   "outputs": [],
   "source": [
    "# filter to rows with a lat and long in st joseph, mi\n",
    "df = df[(df['latitude'] > 42.0) & (df['latitude'] < 42.1) & (df['longitude'] > -86.5) & (df['longitude'] < -86.4)]"
   ]
  },
  {
   "cell_type": "code",
   "execution_count": 8,
   "metadata": {},
   "outputs": [
    {
     "name": "stdout",
     "output_type": "stream",
     "text": [
      "Number of rows: 110\n"
     ]
    }
   ],
   "source": [
    "print(f\"Number of rows: {df.shape[0]}\")"
   ]
  },
  {
   "cell_type": "code",
   "execution_count": 9,
   "metadata": {},
   "outputs": [
    {
     "data": {
      "text/html": [
       "<div>\n",
       "<style scoped>\n",
       "    .dataframe tbody tr th:only-of-type {\n",
       "        vertical-align: middle;\n",
       "    }\n",
       "\n",
       "    .dataframe tbody tr th {\n",
       "        vertical-align: top;\n",
       "    }\n",
       "\n",
       "    .dataframe thead th {\n",
       "        text-align: right;\n",
       "    }\n",
       "</style>\n",
       "<table border=\"1\" class=\"dataframe\">\n",
       "  <thead>\n",
       "    <tr style=\"text-align: right;\">\n",
       "      <th></th>\n",
       "      <th>fsq_place_id</th>\n",
       "      <th>name</th>\n",
       "      <th>latitude</th>\n",
       "      <th>longitude</th>\n",
       "      <th>address</th>\n",
       "      <th>locality</th>\n",
       "      <th>region</th>\n",
       "      <th>postcode</th>\n",
       "      <th>admin_region</th>\n",
       "      <th>post_town</th>\n",
       "      <th>...</th>\n",
       "      <th>date_closed</th>\n",
       "      <th>tel</th>\n",
       "      <th>website</th>\n",
       "      <th>email</th>\n",
       "      <th>facebook_id</th>\n",
       "      <th>instagram</th>\n",
       "      <th>twitter</th>\n",
       "      <th>fsq_category_ids</th>\n",
       "      <th>fsq_category_labels</th>\n",
       "      <th>dt</th>\n",
       "    </tr>\n",
       "  </thead>\n",
       "  <tbody>\n",
       "    <tr>\n",
       "      <th>30657</th>\n",
       "      <td>51b61c23498e967c2f08eddf</td>\n",
       "      <td>Family Therapy</td>\n",
       "      <td>42.090938</td>\n",
       "      <td>-86.495788</td>\n",
       "      <td>M63</td>\n",
       "      <td>St.Joe</td>\n",
       "      <td>MI</td>\n",
       "      <td>49085</td>\n",
       "      <td>None</td>\n",
       "      <td>None</td>\n",
       "      <td>...</td>\n",
       "      <td>None</td>\n",
       "      <td>None</td>\n",
       "      <td>None</td>\n",
       "      <td>None</td>\n",
       "      <td>NaN</td>\n",
       "      <td>None</td>\n",
       "      <td>None</td>\n",
       "      <td>[4bf58dd8d48988d177941735]</td>\n",
       "      <td>[Health and Medicine &gt; Physician &gt; Doctor's Of...</td>\n",
       "      <td>2024-11-19</td>\n",
       "    </tr>\n",
       "    <tr>\n",
       "      <th>49809</th>\n",
       "      <td>4fa27394e4b01308e7bae590</td>\n",
       "      <td>post</td>\n",
       "      <td>42.013976</td>\n",
       "      <td>-86.494090</td>\n",
       "      <td>None</td>\n",
       "      <td>Stevensville</td>\n",
       "      <td>MI</td>\n",
       "      <td>49127</td>\n",
       "      <td>None</td>\n",
       "      <td>None</td>\n",
       "      <td>...</td>\n",
       "      <td>2018-04-11</td>\n",
       "      <td>None</td>\n",
       "      <td>None</td>\n",
       "      <td>None</td>\n",
       "      <td>NaN</td>\n",
       "      <td>None</td>\n",
       "      <td>None</td>\n",
       "      <td>None</td>\n",
       "      <td>None</td>\n",
       "      <td>2024-11-19</td>\n",
       "    </tr>\n",
       "    <tr>\n",
       "      <th>145320</th>\n",
       "      <td>5a88cebda87921721f919555</td>\n",
       "      <td>SpineCare Decompression and Chiropractic Center</td>\n",
       "      <td>42.060139</td>\n",
       "      <td>-86.460849</td>\n",
       "      <td>3134 Niles Road</td>\n",
       "      <td>St. Joseph</td>\n",
       "      <td>MI</td>\n",
       "      <td>49085</td>\n",
       "      <td>None</td>\n",
       "      <td>None</td>\n",
       "      <td>...</td>\n",
       "      <td>None</td>\n",
       "      <td>(269) 408-8439</td>\n",
       "      <td>https://www.bestspinecare.com</td>\n",
       "      <td>info@bestspinecare.com</td>\n",
       "      <td>2.156876e+14</td>\n",
       "      <td>None</td>\n",
       "      <td>stjoechiro</td>\n",
       "      <td>[52e81612bcbc57f1066b7a3a]</td>\n",
       "      <td>[Health and Medicine &gt; Chiropractor]</td>\n",
       "      <td>2024-11-19</td>\n",
       "    </tr>\n",
       "    <tr>\n",
       "      <th>198005</th>\n",
       "      <td>4fd8d58fe4b0859a9ea5bccd</td>\n",
       "      <td>Priebes</td>\n",
       "      <td>42.079603</td>\n",
       "      <td>-86.430327</td>\n",
       "      <td>None</td>\n",
       "      <td>Benton Harbor</td>\n",
       "      <td>MI</td>\n",
       "      <td>49022</td>\n",
       "      <td>None</td>\n",
       "      <td>None</td>\n",
       "      <td>...</td>\n",
       "      <td>None</td>\n",
       "      <td>None</td>\n",
       "      <td>None</td>\n",
       "      <td>None</td>\n",
       "      <td>NaN</td>\n",
       "      <td>None</td>\n",
       "      <td>None</td>\n",
       "      <td>[4bf58dd8d48988d130941735]</td>\n",
       "      <td>[Landmarks and Outdoors &gt; Structure]</td>\n",
       "      <td>2024-11-19</td>\n",
       "    </tr>\n",
       "    <tr>\n",
       "      <th>201408</th>\n",
       "      <td>4daf4211f7b149e03f306785</td>\n",
       "      <td>Leep's supply</td>\n",
       "      <td>42.057438</td>\n",
       "      <td>-86.464681</td>\n",
       "      <td>215 Palladium Dr</td>\n",
       "      <td>Saint Joseph</td>\n",
       "      <td>MI</td>\n",
       "      <td>49085</td>\n",
       "      <td>None</td>\n",
       "      <td>None</td>\n",
       "      <td>...</td>\n",
       "      <td>None</td>\n",
       "      <td>None</td>\n",
       "      <td>None</td>\n",
       "      <td>None</td>\n",
       "      <td>NaN</td>\n",
       "      <td>None</td>\n",
       "      <td>None</td>\n",
       "      <td>None</td>\n",
       "      <td>None</td>\n",
       "      <td>2024-11-19</td>\n",
       "    </tr>\n",
       "  </tbody>\n",
       "</table>\n",
       "<p>5 rows × 24 columns</p>\n",
       "</div>"
      ],
      "text/plain": [
       "                    fsq_place_id  \\\n",
       "30657   51b61c23498e967c2f08eddf   \n",
       "49809   4fa27394e4b01308e7bae590   \n",
       "145320  5a88cebda87921721f919555   \n",
       "198005  4fd8d58fe4b0859a9ea5bccd   \n",
       "201408  4daf4211f7b149e03f306785   \n",
       "\n",
       "                                                   name   latitude  longitude  \\\n",
       "30657                                    Family Therapy  42.090938 -86.495788   \n",
       "49809                                              post  42.013976 -86.494090   \n",
       "145320  SpineCare Decompression and Chiropractic Center  42.060139 -86.460849   \n",
       "198005                                          Priebes  42.079603 -86.430327   \n",
       "201408                                    Leep's supply  42.057438 -86.464681   \n",
       "\n",
       "                 address       locality region postcode admin_region  \\\n",
       "30657                M63         St.Joe     MI    49085         None   \n",
       "49809               None   Stevensville     MI    49127         None   \n",
       "145320   3134 Niles Road     St. Joseph     MI    49085         None   \n",
       "198005              None  Benton Harbor     MI    49022         None   \n",
       "201408  215 Palladium Dr   Saint Joseph     MI    49085         None   \n",
       "\n",
       "       post_town  ... date_closed             tel  \\\n",
       "30657       None  ...        None            None   \n",
       "49809       None  ...  2018-04-11            None   \n",
       "145320      None  ...        None  (269) 408-8439   \n",
       "198005      None  ...        None            None   \n",
       "201408      None  ...        None            None   \n",
       "\n",
       "                              website                   email   facebook_id  \\\n",
       "30657                            None                    None           NaN   \n",
       "49809                            None                    None           NaN   \n",
       "145320  https://www.bestspinecare.com  info@bestspinecare.com  2.156876e+14   \n",
       "198005                           None                    None           NaN   \n",
       "201408                           None                    None           NaN   \n",
       "\n",
       "       instagram     twitter            fsq_category_ids  \\\n",
       "30657       None        None  [4bf58dd8d48988d177941735]   \n",
       "49809       None        None                        None   \n",
       "145320      None  stjoechiro  [52e81612bcbc57f1066b7a3a]   \n",
       "198005      None        None  [4bf58dd8d48988d130941735]   \n",
       "201408      None        None                        None   \n",
       "\n",
       "                                      fsq_category_labels          dt  \n",
       "30657   [Health and Medicine > Physician > Doctor's Of...  2024-11-19  \n",
       "49809                                                None  2024-11-19  \n",
       "145320               [Health and Medicine > Chiropractor]  2024-11-19  \n",
       "198005               [Landmarks and Outdoors > Structure]  2024-11-19  \n",
       "201408                                               None  2024-11-19  \n",
       "\n",
       "[5 rows x 24 columns]"
      ]
     },
     "execution_count": 9,
     "metadata": {},
     "output_type": "execute_result"
    }
   ],
   "source": [
    "df.head()"
   ]
  },
  {
   "cell_type": "code",
   "execution_count": 12,
   "metadata": {},
   "outputs": [],
   "source": [
    "sedf = arcgis.features.GeoAccessor.from_xy(df, x_column='longitude', y_column='latitude', sr=4326)"
   ]
  },
  {
   "cell_type": "code",
   "execution_count": 11,
   "metadata": {},
   "outputs": [
    {
     "data": {
      "application/vnd.jupyter.widget-view+json": {
       "model_id": "0e8474d090e14f75bdbac87c32a5398f",
       "version_major": 2,
       "version_minor": 1
      },
      "text/plain": [
       "Map(center=[5484837.632514392, -9372733.492175287], extent={'xmin': -9787509.914871024, 'ymin': 4924123.621923…"
      ]
     },
     "execution_count": 11,
     "metadata": {},
     "output_type": "execute_result"
    }
   ],
   "source": [
    "gis = GIS()\n",
    "map = gis.map('Michigan')\n",
    "map"
   ]
  },
  {
   "cell_type": "code",
   "execution_count": 13,
   "metadata": {},
   "outputs": [
    {
     "name": "stderr",
     "output_type": "stream",
     "text": [
      "c:\\Users\\ggarcia\\OneDrive - Abonmarche\\Documents\\GitHub\\Geopandas\\.venv\\Lib\\site-packages\\pandas\\core\\dtypes\\cast.py:1056: RuntimeWarning: invalid value encountered in cast\n",
      "  if (arr.astype(int) == arr).all():\n",
      "c:\\Users\\ggarcia\\OneDrive - Abonmarche\\Documents\\GitHub\\Geopandas\\.venv\\Lib\\site-packages\\pandas\\core\\dtypes\\cast.py:1080: RuntimeWarning: invalid value encountered in cast\n",
      "  if (arr.astype(int) == arr).all():\n"
     ]
    },
    {
     "data": {
      "text/plain": [
       "True"
      ]
     },
     "execution_count": 13,
     "metadata": {},
     "output_type": "execute_result"
    }
   ],
   "source": [
    "# add the sedf to the map\n",
    "sedf.spatial.plot(map)"
   ]
  }
 ],
 "metadata": {
  "kernelspec": {
   "display_name": ".venv",
   "language": "python",
   "name": "python3"
  },
  "language_info": {
   "codemirror_mode": {
    "name": "ipython",
    "version": 3
   },
   "file_extension": ".py",
   "mimetype": "text/x-python",
   "name": "python",
   "nbconvert_exporter": "python",
   "pygments_lexer": "ipython3",
   "version": "3.11.9"
  }
 },
 "nbformat": 4,
 "nbformat_minor": 2
}
