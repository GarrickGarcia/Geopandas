{
 "cells": [
  {
   "cell_type": "markdown",
   "metadata": {},
   "source": [
    "## Imports"
   ]
  },
  {
   "cell_type": "markdown",
   "metadata": {},
   "source": [
    "### Data Access Imports"
   ]
  },
  {
   "cell_type": "code",
   "execution_count": 3,
   "metadata": {},
   "outputs": [],
   "source": [
    "import pandas as pd\n",
    "import pyarrow.parquet as pq\n",
    "import s3fs"
   ]
  },
  {
   "cell_type": "markdown",
   "metadata": {},
   "source": [
    "### Visualization Imports"
   ]
  },
  {
   "cell_type": "code",
   "execution_count": 4,
   "metadata": {},
   "outputs": [],
   "source": [
    "import plotly.express as px\n",
    "import matplotlib.pyplot as plt\n",
    "import arcgis\n",
    "from arcgis import GeoAccessor, GeoSeriesAccessor\n",
    "from arcgis.gis import GIS"
   ]
  },
  {
   "cell_type": "markdown",
   "metadata": {},
   "source": [
    "### Analysis Imports"
   ]
  },
  {
   "cell_type": "code",
   "execution_count": null,
   "metadata": {},
   "outputs": [],
   "source": [
    "import geopandas as gpd"
   ]
  },
  {
   "cell_type": "markdown",
   "metadata": {},
   "source": [
    "## Access Data"
   ]
  },
  {
   "cell_type": "markdown",
   "metadata": {},
   "source": [
    "### Single Parquet"
   ]
  },
  {
   "cell_type": "code",
   "execution_count": 3,
   "metadata": {},
   "outputs": [],
   "source": [
    "file_path = 's3://fsq-os-places-us-east-1/release/dt=2024-11-19/places/parquet/places-00000.snappy.parquet'"
   ]
  },
  {
   "cell_type": "code",
   "execution_count": 4,
   "metadata": {},
   "outputs": [],
   "source": [
    "# Read directly from S3\n",
    "df = pd.read_parquet(file_path, storage_options={'anon': True})"
   ]
  },
  {
   "cell_type": "code",
   "execution_count": 16,
   "metadata": {},
   "outputs": [
    {
     "name": "stdout",
     "output_type": "stream",
     "text": [
      "Number of rows: 4180424\n"
     ]
    }
   ],
   "source": [
    "# print number of rows\n",
    "print(f\"Number of rows: {df.shape[0]}\")"
   ]
  },
  {
   "cell_type": "code",
   "execution_count": 7,
   "metadata": {},
   "outputs": [],
   "source": [
    "# filter to rows with a lat and long in st joseph, mi\n",
    "df = df[(df['latitude'] > 42.0) & (df['latitude'] < 42.1) & (df['longitude'] > -86.5) & (df['longitude'] < -86.4)]"
   ]
  },
  {
   "cell_type": "markdown",
   "metadata": {},
   "source": [
    "### Iterate Parquets in S3"
   ]
  },
  {
   "cell_type": "code",
   "execution_count": 5,
   "metadata": {},
   "outputs": [],
   "source": [
    "# Initialize S3 filesystem\n",
    "s3 = s3fs.S3FileSystem(anon=True)"
   ]
  },
  {
   "cell_type": "code",
   "execution_count": 6,
   "metadata": {},
   "outputs": [],
   "source": [
    "# S3 bucket and prefix\n",
    "bucket_name = 'fsq-os-places-us-east-1'\n",
    "prefix = 'release/dt=2024-11-19/places/parquet/'"
   ]
  },
  {
   "cell_type": "code",
   "execution_count": 7,
   "metadata": {},
   "outputs": [],
   "source": [
    "# List all files in the prefix\n",
    "files = s3.ls(f\"{bucket_name}/{prefix}\")"
   ]
  },
  {
   "cell_type": "code",
   "execution_count": 8,
   "metadata": {},
   "outputs": [
    {
     "name": "stdout",
     "output_type": "stream",
     "text": [
      "Number of files: 25\n"
     ]
    }
   ],
   "source": [
    "print(f\"Number of files: {len(files)}\")"
   ]
  },
  {
   "cell_type": "code",
   "execution_count": 9,
   "metadata": {},
   "outputs": [
    {
     "name": "stdout",
     "output_type": "stream",
     "text": [
      "['fsq-os-places-us-east-1/release/dt=2024-11-19/places/parquet/places-00000.snappy.parquet', 'fsq-os-places-us-east-1/release/dt=2024-11-19/places/parquet/places-00001.snappy.parquet', 'fsq-os-places-us-east-1/release/dt=2024-11-19/places/parquet/places-00002.snappy.parquet', 'fsq-os-places-us-east-1/release/dt=2024-11-19/places/parquet/places-00003.snappy.parquet', 'fsq-os-places-us-east-1/release/dt=2024-11-19/places/parquet/places-00004.snappy.parquet', 'fsq-os-places-us-east-1/release/dt=2024-11-19/places/parquet/places-00005.snappy.parquet', 'fsq-os-places-us-east-1/release/dt=2024-11-19/places/parquet/places-00006.snappy.parquet', 'fsq-os-places-us-east-1/release/dt=2024-11-19/places/parquet/places-00007.snappy.parquet', 'fsq-os-places-us-east-1/release/dt=2024-11-19/places/parquet/places-00008.snappy.parquet', 'fsq-os-places-us-east-1/release/dt=2024-11-19/places/parquet/places-00009.snappy.parquet', 'fsq-os-places-us-east-1/release/dt=2024-11-19/places/parquet/places-00010.snappy.parquet', 'fsq-os-places-us-east-1/release/dt=2024-11-19/places/parquet/places-00011.snappy.parquet', 'fsq-os-places-us-east-1/release/dt=2024-11-19/places/parquet/places-00012.snappy.parquet', 'fsq-os-places-us-east-1/release/dt=2024-11-19/places/parquet/places-00013.snappy.parquet', 'fsq-os-places-us-east-1/release/dt=2024-11-19/places/parquet/places-00014.snappy.parquet', 'fsq-os-places-us-east-1/release/dt=2024-11-19/places/parquet/places-00015.snappy.parquet', 'fsq-os-places-us-east-1/release/dt=2024-11-19/places/parquet/places-00016.snappy.parquet', 'fsq-os-places-us-east-1/release/dt=2024-11-19/places/parquet/places-00017.snappy.parquet', 'fsq-os-places-us-east-1/release/dt=2024-11-19/places/parquet/places-00018.snappy.parquet', 'fsq-os-places-us-east-1/release/dt=2024-11-19/places/parquet/places-00019.snappy.parquet', 'fsq-os-places-us-east-1/release/dt=2024-11-19/places/parquet/places-00020.snappy.parquet', 'fsq-os-places-us-east-1/release/dt=2024-11-19/places/parquet/places-00021.snappy.parquet', 'fsq-os-places-us-east-1/release/dt=2024-11-19/places/parquet/places-00022.snappy.parquet', 'fsq-os-places-us-east-1/release/dt=2024-11-19/places/parquet/places-00023.snappy.parquet', 'fsq-os-places-us-east-1/release/dt=2024-11-19/places/parquet/places-00024.snappy.parquet']\n"
     ]
    }
   ],
   "source": [
    "print(files)"
   ]
  },
  {
   "cell_type": "code",
   "execution_count": 10,
   "metadata": {},
   "outputs": [],
   "source": [
    "# Area of interest\n",
    "min_lat, max_lat = 42.0, 42.2\n",
    "min_lon, max_lon = -86.5, -86.3"
   ]
  },
  {
   "cell_type": "code",
   "execution_count": 11,
   "metadata": {},
   "outputs": [],
   "source": [
    "# Iterate through files and filter data\n",
    "filtered_data = []\n",
    "for file in files:\n",
    "    # Read the Parquet file\n",
    "    file_path = f\"s3://{file}\"\n",
    "    table = pq.read_table(file_path, filesystem=s3)\n",
    "    df = table.to_pandas()\n",
    "\n",
    "    # Filter by latitude and longitude\n",
    "    df_filtered = df[\n",
    "        (df['latitude'] >= min_lat) & (df['latitude'] <= max_lat) &\n",
    "        (df['longitude'] >= min_lon) & (df['longitude'] <= max_lon)\n",
    "    ]\n",
    "\n",
    "    # Append the filtered data\n",
    "    filtered_data.append(df_filtered)"
   ]
  },
  {
   "cell_type": "code",
   "execution_count": 12,
   "metadata": {},
   "outputs": [],
   "source": [
    "# Combine all filtered data into a single DataFrame\n",
    "final_df = pd.concat(filtered_data, ignore_index=True)"
   ]
  },
  {
   "cell_type": "code",
   "execution_count": 13,
   "metadata": {},
   "outputs": [
    {
     "name": "stdout",
     "output_type": "stream",
     "text": [
      "Number of rows: 5489\n"
     ]
    }
   ],
   "source": [
    "# print number of rows\n",
    "print(f\"Number of rows: {final_df.shape[0]}\")"
   ]
  },
  {
   "cell_type": "code",
   "execution_count": 14,
   "metadata": {},
   "outputs": [
    {
     "data": {
      "text/html": [
       "<div>\n",
       "<style scoped>\n",
       "    .dataframe tbody tr th:only-of-type {\n",
       "        vertical-align: middle;\n",
       "    }\n",
       "\n",
       "    .dataframe tbody tr th {\n",
       "        vertical-align: top;\n",
       "    }\n",
       "\n",
       "    .dataframe thead th {\n",
       "        text-align: right;\n",
       "    }\n",
       "</style>\n",
       "<table border=\"1\" class=\"dataframe\">\n",
       "  <thead>\n",
       "    <tr style=\"text-align: right;\">\n",
       "      <th></th>\n",
       "      <th>fsq_place_id</th>\n",
       "      <th>name</th>\n",
       "      <th>latitude</th>\n",
       "      <th>longitude</th>\n",
       "      <th>address</th>\n",
       "      <th>locality</th>\n",
       "      <th>region</th>\n",
       "      <th>postcode</th>\n",
       "      <th>admin_region</th>\n",
       "      <th>post_town</th>\n",
       "      <th>...</th>\n",
       "      <th>date_closed</th>\n",
       "      <th>tel</th>\n",
       "      <th>website</th>\n",
       "      <th>email</th>\n",
       "      <th>facebook_id</th>\n",
       "      <th>instagram</th>\n",
       "      <th>twitter</th>\n",
       "      <th>fsq_category_ids</th>\n",
       "      <th>fsq_category_labels</th>\n",
       "      <th>dt</th>\n",
       "    </tr>\n",
       "  </thead>\n",
       "  <tbody>\n",
       "    <tr>\n",
       "      <th>0</th>\n",
       "      <td>51b61c23498e967c2f08eddf</td>\n",
       "      <td>Family Therapy</td>\n",
       "      <td>42.090938</td>\n",
       "      <td>-86.495788</td>\n",
       "      <td>M63</td>\n",
       "      <td>St.Joe</td>\n",
       "      <td>MI</td>\n",
       "      <td>49085</td>\n",
       "      <td>None</td>\n",
       "      <td>None</td>\n",
       "      <td>...</td>\n",
       "      <td>None</td>\n",
       "      <td>None</td>\n",
       "      <td>None</td>\n",
       "      <td>None</td>\n",
       "      <td>NaN</td>\n",
       "      <td>None</td>\n",
       "      <td>None</td>\n",
       "      <td>[4bf58dd8d48988d177941735]</td>\n",
       "      <td>[Health and Medicine &gt; Physician &gt; Doctor's Of...</td>\n",
       "      <td>2024-11-19</td>\n",
       "    </tr>\n",
       "    <tr>\n",
       "      <th>1</th>\n",
       "      <td>3bed8b33a77d42418e6c5fa1</td>\n",
       "      <td>Ray Hbb</td>\n",
       "      <td>42.158663</td>\n",
       "      <td>-86.358904</td>\n",
       "      <td>2569 Kerlikowske Rd</td>\n",
       "      <td>Benton Harbor</td>\n",
       "      <td>MI</td>\n",
       "      <td>49022</td>\n",
       "      <td>None</td>\n",
       "      <td>None</td>\n",
       "      <td>...</td>\n",
       "      <td>None</td>\n",
       "      <td>(269) 757-7447</td>\n",
       "      <td>None</td>\n",
       "      <td>None</td>\n",
       "      <td>NaN</td>\n",
       "      <td>None</td>\n",
       "      <td>None</td>\n",
       "      <td>[63be6904847c3692a84b9b85]</td>\n",
       "      <td>[Business and Professional Services &gt; Real Est...</td>\n",
       "      <td>2024-11-19</td>\n",
       "    </tr>\n",
       "    <tr>\n",
       "      <th>2</th>\n",
       "      <td>4fa27394e4b01308e7bae590</td>\n",
       "      <td>post</td>\n",
       "      <td>42.013976</td>\n",
       "      <td>-86.494090</td>\n",
       "      <td>None</td>\n",
       "      <td>Stevensville</td>\n",
       "      <td>MI</td>\n",
       "      <td>49127</td>\n",
       "      <td>None</td>\n",
       "      <td>None</td>\n",
       "      <td>...</td>\n",
       "      <td>2018-04-11</td>\n",
       "      <td>None</td>\n",
       "      <td>None</td>\n",
       "      <td>None</td>\n",
       "      <td>NaN</td>\n",
       "      <td>None</td>\n",
       "      <td>None</td>\n",
       "      <td>None</td>\n",
       "      <td>None</td>\n",
       "      <td>2024-11-19</td>\n",
       "    </tr>\n",
       "    <tr>\n",
       "      <th>3</th>\n",
       "      <td>d91db561902942fca02b21bd</td>\n",
       "      <td>Family Circle Dentistry PLC</td>\n",
       "      <td>42.120655</td>\n",
       "      <td>-86.476907</td>\n",
       "      <td>455 Upton Dr</td>\n",
       "      <td>Saint Joseph</td>\n",
       "      <td>MI</td>\n",
       "      <td>49085</td>\n",
       "      <td>None</td>\n",
       "      <td>None</td>\n",
       "      <td>...</td>\n",
       "      <td>None</td>\n",
       "      <td>(269) 983-7881</td>\n",
       "      <td>http://www.familycircledentistry.com</td>\n",
       "      <td>None</td>\n",
       "      <td>NaN</td>\n",
       "      <td>None</td>\n",
       "      <td>None</td>\n",
       "      <td>[4bf58dd8d48988d178941735]</td>\n",
       "      <td>[Health and Medicine &gt; Dentist]</td>\n",
       "      <td>2024-11-19</td>\n",
       "    </tr>\n",
       "    <tr>\n",
       "      <th>4</th>\n",
       "      <td>5a88cebda87921721f919555</td>\n",
       "      <td>SpineCare Decompression and Chiropractic Center</td>\n",
       "      <td>42.060139</td>\n",
       "      <td>-86.460849</td>\n",
       "      <td>3134 Niles Road</td>\n",
       "      <td>St. Joseph</td>\n",
       "      <td>MI</td>\n",
       "      <td>49085</td>\n",
       "      <td>None</td>\n",
       "      <td>None</td>\n",
       "      <td>...</td>\n",
       "      <td>None</td>\n",
       "      <td>(269) 408-8439</td>\n",
       "      <td>https://www.bestspinecare.com</td>\n",
       "      <td>info@bestspinecare.com</td>\n",
       "      <td>2.156876e+14</td>\n",
       "      <td>None</td>\n",
       "      <td>stjoechiro</td>\n",
       "      <td>[52e81612bcbc57f1066b7a3a]</td>\n",
       "      <td>[Health and Medicine &gt; Chiropractor]</td>\n",
       "      <td>2024-11-19</td>\n",
       "    </tr>\n",
       "  </tbody>\n",
       "</table>\n",
       "<p>5 rows × 24 columns</p>\n",
       "</div>"
      ],
      "text/plain": [
       "               fsq_place_id                                             name  \\\n",
       "0  51b61c23498e967c2f08eddf                                   Family Therapy   \n",
       "1  3bed8b33a77d42418e6c5fa1                                          Ray Hbb   \n",
       "2  4fa27394e4b01308e7bae590                                             post   \n",
       "3  d91db561902942fca02b21bd                      Family Circle Dentistry PLC   \n",
       "4  5a88cebda87921721f919555  SpineCare Decompression and Chiropractic Center   \n",
       "\n",
       "    latitude  longitude              address       locality region postcode  \\\n",
       "0  42.090938 -86.495788                  M63         St.Joe     MI    49085   \n",
       "1  42.158663 -86.358904  2569 Kerlikowske Rd  Benton Harbor     MI    49022   \n",
       "2  42.013976 -86.494090                 None   Stevensville     MI    49127   \n",
       "3  42.120655 -86.476907         455 Upton Dr   Saint Joseph     MI    49085   \n",
       "4  42.060139 -86.460849      3134 Niles Road     St. Joseph     MI    49085   \n",
       "\n",
       "  admin_region post_town  ... date_closed             tel  \\\n",
       "0         None      None  ...        None            None   \n",
       "1         None      None  ...        None  (269) 757-7447   \n",
       "2         None      None  ...  2018-04-11            None   \n",
       "3         None      None  ...        None  (269) 983-7881   \n",
       "4         None      None  ...        None  (269) 408-8439   \n",
       "\n",
       "                                website                   email   facebook_id  \\\n",
       "0                                  None                    None           NaN   \n",
       "1                                  None                    None           NaN   \n",
       "2                                  None                    None           NaN   \n",
       "3  http://www.familycircledentistry.com                    None           NaN   \n",
       "4         https://www.bestspinecare.com  info@bestspinecare.com  2.156876e+14   \n",
       "\n",
       "  instagram     twitter            fsq_category_ids  \\\n",
       "0      None        None  [4bf58dd8d48988d177941735]   \n",
       "1      None        None  [63be6904847c3692a84b9b85]   \n",
       "2      None        None                        None   \n",
       "3      None        None  [4bf58dd8d48988d178941735]   \n",
       "4      None  stjoechiro  [52e81612bcbc57f1066b7a3a]   \n",
       "\n",
       "                                 fsq_category_labels          dt  \n",
       "0  [Health and Medicine > Physician > Doctor's Of...  2024-11-19  \n",
       "1  [Business and Professional Services > Real Est...  2024-11-19  \n",
       "2                                               None  2024-11-19  \n",
       "3                    [Health and Medicine > Dentist]  2024-11-19  \n",
       "4               [Health and Medicine > Chiropractor]  2024-11-19  \n",
       "\n",
       "[5 rows x 24 columns]"
      ]
     },
     "execution_count": 14,
     "metadata": {},
     "output_type": "execute_result"
    }
   ],
   "source": [
    "final_df.head()"
   ]
  },
  {
   "cell_type": "code",
   "execution_count": 15,
   "metadata": {},
   "outputs": [],
   "source": [
    "# save final_df to a csv file\n",
    "final_df.to_csv('location_filtered_places.csv', index=False)"
   ]
  },
  {
   "cell_type": "markdown",
   "metadata": {},
   "source": [
    "## Visualize Data"
   ]
  },
  {
   "cell_type": "code",
   "execution_count": 16,
   "metadata": {},
   "outputs": [
    {
     "data": {
      "image/png": "[encoded data removed]",
      "text/plain": [
       "<Figure size 640x480 with 1 Axes>"
      ]
     },
     "metadata": {},
     "output_type": "display_data"
    }
   ],
   "source": [
    "# make a matplotlib box plot of latitude and longitude\n",
    "fig, ax = plt.subplots()\n",
    "final_df.boxplot(column=['latitude', 'longitude'], ax=ax)\n",
    "plt.show()"
   ]
  },
  {
   "cell_type": "code",
   "execution_count": 17,
   "metadata": {},
   "outputs": [],
   "source": [
    "sedf = arcgis.features.GeoAccessor.from_xy(final_df, x_column='longitude', y_column='latitude', sr=4326)"
   ]
  },
  {
   "cell_type": "code",
   "execution_count": 18,
   "metadata": {},
   "outputs": [
    {
     "data": {
      "application/vnd.jupyter.widget-view+json": {
       "model_id": "b7ca5499809f46d8a3b60883cf89a8ec",
       "version_major": 2,
       "version_minor": 1
      },
      "text/plain": [
       "Map(center=[5484837.632514392, -9372733.492175287], extent={'xmin': -9787509.914871024, 'ymin': 4924123.621923…"
      ]
     },
     "execution_count": 18,
     "metadata": {},
     "output_type": "execute_result"
    }
   ],
   "source": [
    "gis = GIS()\n",
    "map = gis.map('Michigan')\n",
    "map"
   ]
  },
  {
   "cell_type": "code",
   "execution_count": 19,
   "metadata": {},
   "outputs": [
    {
     "name": "stderr",
     "output_type": "stream",
     "text": [
      "c:\\Users\\ggarcia\\OneDrive - Abonmarche\\Documents\\GitHub\\Geopandas\\.venv\\Lib\\site-packages\\pandas\\core\\dtypes\\cast.py:1056: RuntimeWarning: invalid value encountered in cast\n",
      "  if (arr.astype(int) == arr).all():\n",
      "c:\\Users\\ggarcia\\OneDrive - Abonmarche\\Documents\\GitHub\\Geopandas\\.venv\\Lib\\site-packages\\pandas\\core\\dtypes\\cast.py:1080: RuntimeWarning: invalid value encountered in cast\n",
      "  if (arr.astype(int) == arr).all():\n"
     ]
    },
    {
     "data": {
      "text/plain": [
       "True"
      ]
     },
     "execution_count": 19,
     "metadata": {},
     "output_type": "execute_result"
    }
   ],
   "source": [
    "# add the sedf to the map\n",
    "sedf.spatial.plot(map)"
   ]
  }
 ],
 "metadata": {
  "kernelspec": {
   "display_name": ".venv",
   "language": "python",
   "name": "python3"
  },
  "language_info": {
   "codemirror_mode": {
    "name": "ipython",
    "version": 3
   },
   "file_extension": ".py",
   "mimetype": "text/x-python",
   "name": "python",
   "nbconvert_exporter": "python",
   "pygments_lexer": "ipython3",
   "version": "3.11.9"
  }
 },
 "nbformat": 4,
 "nbformat_minor": 2
}
